{
 "cells": [
  {
   "cell_type": "markdown",
   "id": "71c47bc8-2c48-4c3e-bfbd-556a10b143ed",
   "metadata": {},
   "source": [
    "# Data Science Tools and Ecosystem"
   ]
  },
  {
   "cell_type": "markdown",
   "id": "8762a94b-33bf-45ba-93b3-834538dd5a8f",
   "metadata": {},
   "source": [
    "In this notebook, Data Science Tools and Ecosystem are summarized."
   ]
  },
  {
   "cell_type": "markdown",
   "id": "e06fad58-4882-4f13-a929-0b1347d3e47a",
   "metadata": {},
   "source": [
    "**Objectives**\n",
    "\n",
    "+ List of popular languages for Data Science.\n",
    "+ List of Commonly used libraries in Data Science.\n",
    "+ Some Open source Data Science Tools.\n",
    "+ Example of a evaluating arithmetic expression."
   ]
  },
  {
   "cell_type": "markdown",
   "id": "0b1a16e2-3abb-4dcc-a6f1-41c3fb0c7a58",
   "metadata": {},
   "source": [
    "Some of the popular languages that Data Scientists use are:\n",
    "1. Python\n",
    "2. R\n",
    "3. Scala\n",
    "4. Julia\n",
    "5. Java\n",
    "6. C++\n",
    "7. SQL"
   ]
  },
  {
   "cell_type": "markdown",
   "id": "f7084297-9ed8-45e2-9048-d6ede100295d",
   "metadata": {},
   "source": [
    "Some of the commonly used libraries used by data scientists include:\n",
    "1. Pandas (Data Manipulation)\n",
    "2. Numpy (Scientific Computing)\n",
    "3. Matplotlib & Seaborn (Data Visualization)\n",
    "4. Scikit-learn (Machine Learning)\n",
    "5. Tensorflow (Deep Learning)\n"
   ]
  },
  {
   "cell_type": "markdown",
   "id": "9249a789-bb59-42ac-abfe-82c1a4c4796e",
   "metadata": {},
   "source": [
    "| Data Science Tools |\n",
    "| ------------------ |\n",
    "| Jupyter Lab |\n",
    "| R Studio |\n",
    "| Spyder |\n"
   ]
  },
  {
   "cell_type": "markdown",
   "id": "e5cb9278-1595-42e4-8e90-5095a141955a",
   "metadata": {},
   "source": [
    "### Below are a few examples of evaluating arithmetic expressions in python"
   ]
  },
  {
   "cell_type": "code",
   "execution_count": 48,
   "id": "a06f1cf5-f8a3-4150-96cf-618fcb939c4e",
   "metadata": {},
   "outputs": [
    {
     "data": {
      "text/plain": [
       "17"
      ]
     },
     "execution_count": 48,
     "metadata": {},
     "output_type": "execute_result"
    }
   ],
   "source": [
    "# This is a simple arithemetic expression to multiply then add\n",
    "\n",
    "(3*4)+5"
   ]
  },
  {
   "cell_type": "code",
   "execution_count": 49,
   "id": "0c22a898-05f3-4c0b-b699-db25a3194118",
   "metadata": {},
   "outputs": [
    {
     "name": "stdout",
     "output_type": "stream",
     "text": [
      "3.3333333333333335\n"
     ]
    }
   ],
   "source": [
    "# This will convert 200 minutes to hours by dividing by 60\n",
    "\n",
    "min = 200\n",
    "inhours = 200/60  # 1 hour = 60 minutes\n",
    "print(inhours)"
   ]
  },
  {
   "cell_type": "markdown",
   "id": "0c560436-974a-4856-8f9b-eedcbde3ce8c",
   "metadata": {},
   "source": [
    "## Author\n",
    "Sanjay Goyal"
   ]
  },
  {
   "cell_type": "code",
   "execution_count": null,
   "id": "0dbf2625-e9a7-4d7f-b561-4eb6c4c2d12e",
   "metadata": {},
   "outputs": [],
   "source": []
  }
 ],
 "metadata": {
  "kernelspec": {
   "display_name": "Python 3 (ipykernel)",
   "language": "python",
   "name": "python3"
  },
  "language_info": {
   "codemirror_mode": {
    "name": "ipython",
    "version": 3
   },
   "file_extension": ".py",
   "mimetype": "text/x-python",
   "name": "python",
   "nbconvert_exporter": "python",
   "pygments_lexer": "ipython3",
   "version": "3.12.4"
  }
 },
 "nbformat": 4,
 "nbformat_minor": 5
}
